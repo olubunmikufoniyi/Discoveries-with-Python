{
  "nbformat": 4,
  "nbformat_minor": 0,
  "metadata": {
    "colab": {
      "provenance": [],
      "include_colab_link": true
    },
    "kernelspec": {
      "name": "python3",
      "display_name": "Python 3"
    },
    "language_info": {
      "name": "python"
    }
  },
  "cells": [
    {
      "cell_type": "markdown",
      "metadata": {
        "id": "view-in-github",
        "colab_type": "text"
      },
      "source": [
        "<a href=\"https://colab.research.google.com/github/olubunmikufoniyi/Discoveries-with-Python/blob/main/Day%205-Pizza%20Delivery.ipynb\" target=\"_parent\"><img src=\"https://colab.research.google.com/assets/colab-badge.svg\" alt=\"Open In Colab\"/></a>"
      ]
    },
    {
      "cell_type": "code",
      "execution_count": null,
      "metadata": {
        "id": "FVQA1whjwLSR",
        "colab": {
          "base_uri": "https://localhost:8080/"
        },
        "outputId": "69bcb575-719a-4371-afaa-5d7a3fb6d1b9"
      },
      "outputs": [
        {
          "output_type": "stream",
          "name": "stdout",
          "text": [
            "Welcome to Python Pizza Deliveries\n"
          ]
        }
      ],
      "source": [
        "userinput = 'Welcome to Python Pizza Deliveries'\n",
        "print(userinput)"
      ]
    },
    {
      "cell_type": "markdown",
      "source": [
        "print= Welcome to pizza delivery"
      ],
      "metadata": {
        "id": "f1kC8fgvwUx3"
      }
    },
    {
      "cell_type": "code",
      "source": [
        " size = input('What size of pizza would you like?: (S/M/L?)')\n",
        "print(size)\n",
        "\n",
        "add_pepperroni = input('Would you like to have Peperroni?: (Y/N)')\n",
        "print(add_pepperroni)\n",
        "\n",
        "extra_cheese = input('Would you like extra cheese?: (Y/N)')\n",
        "print(extra_cheese)\n",
        "\n",
        "if size == \"S\":\n",
        "    base_price = 15\n",
        "\n",
        "elif size == \"M\":\n",
        "    base_price = 20\n",
        "\n",
        "elif size == \"L\":\n",
        "    base_price = 25\n",
        "\n",
        "if add_pepperroni == \"Y\":\n",
        "    if size == \"S\":\n",
        "      base_price +=2\n",
        "    else:\n",
        "      base_price +=3\n",
        "\n",
        "\n",
        "print(base_price)\n",
        "\n",
        "if extra_cheese == 'Y':\n",
        "   base_price +=1\n",
        "   print(base_price)\n",
        "\n",
        "\n",
        "print(f\"Your final bill is: ${base_price}.\")"
      ],
      "metadata": {
        "id": "vr7pJVpNwfei",
        "colab": {
          "base_uri": "https://localhost:8080/"
        },
        "outputId": "720cf9ee-1426-4eb5-98de-bad2db4ee372"
      },
      "execution_count": null,
      "outputs": [
        {
          "output_type": "stream",
          "name": "stdout",
          "text": [
            "What size of pizza would you like?: (S/M/L?)S\n",
            "S\n",
            "Would you like to have Peperroni?: (Y/N)Y\n",
            "Y\n",
            "Would you like extra cheese?: (Y/N)N\n",
            "N\n",
            "17\n",
            "Your final bill is: $17.\n"
          ]
        }
      ]
    },
    {
      "cell_type": "code",
      "source": [],
      "metadata": {
        "id": "uEGRD1vU_aSm"
      },
      "execution_count": null,
      "outputs": []
    }
  ]
}