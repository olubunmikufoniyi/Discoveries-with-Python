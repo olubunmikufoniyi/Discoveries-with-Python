{
  "nbformat": 4,
  "nbformat_minor": 0,
  "metadata": {
    "colab": {
      "provenance": [],
      "authorship_tag": "ABX9TyMN1JAWpj57YrjPPfrFbd6A",
      "include_colab_link": true
    },
    "kernelspec": {
      "name": "python3",
      "display_name": "Python 3"
    },
    "language_info": {
      "name": "python"
    }
  },
  "cells": [
    {
      "cell_type": "markdown",
      "metadata": {
        "id": "view-in-github",
        "colab_type": "text"
      },
      "source": [
        "<a href=\"https://colab.research.google.com/github/olubunmikufoniyi/Discoveries-with-Python/blob/main/Day_4_Number_Project.ipynb\" target=\"_parent\"><img src=\"https://colab.research.google.com/assets/colab-badge.svg\" alt=\"Open In Colab\"/></a>"
      ]
    },
    {
      "cell_type": "code",
      "source": [
        "# Get the input as a string\n",
        "two_digit_number = input(\"Enter a two-digit number: \")\n",
        "\n",
        "# Check if the input is a valid 2-digit number\n",
        "if len(two_digit_number) == 2 and two_digit_number.isdigit():\n",
        "    # Convert each digit to an integer\n",
        "    digit1 = int(two_digit_number[0])\n",
        "    digit2 = int(two_digit_number[1])\n",
        "\n",
        "    # Calculate the sum of the digits\n",
        "    digit_sum = digit1 + digit2\n",
        "\n",
        "    # Display the result\n",
        "    print(f\"{digit1} + {digit2} = {digit_sum}\")\n",
        "\n",
        "else:\n",
        "    print(\"Please enter a valid two-digit number.\")"
      ],
      "metadata": {
        "colab": {
          "base_uri": "https://localhost:8080/"
        },
        "id": "4MhsPnsbsCay",
        "outputId": "d60fc9f0-6113-47db-fff3-68e483c6c035"
      },
      "execution_count": 2,
      "outputs": [
        {
          "output_type": "stream",
          "name": "stdout",
          "text": [
            "Enter a two-digit number: 39\n",
            "3 + 9 = 12\n"
          ]
        }
      ]
    }
  ]
}