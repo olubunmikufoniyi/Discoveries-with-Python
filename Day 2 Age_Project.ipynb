{
  "nbformat": 4,
  "nbformat_minor": 0,
  "metadata": {
    "colab": {
      "provenance": [],
      "authorship_tag": "ABX9TyM/vVCsAkBNEkKngq9s/S6x",
      "include_colab_link": true
    },
    "kernelspec": {
      "name": "python3",
      "display_name": "Python 3"
    },
    "language_info": {
      "name": "python"
    }
  },
  "cells": [
    {
      "cell_type": "markdown",
      "metadata": {
        "id": "view-in-github",
        "colab_type": "text"
      },
      "source": [
        "<a href=\"https://colab.research.google.com/github/olubunmikufoniyi/Discoveries-with-Python/blob/main/Day%202%20Age_Project.ipynb\" target=\"_parent\"><img src=\"https://colab.research.google.com/assets/colab-badge.svg\" alt=\"Open In Colab\"/></a>"
      ]
    },
    {
      "cell_type": "markdown",
      "source": [
        "Create a program using maths and f-Strings that tells us how many days, weeks, months we have left if we live until 90 years old.\n",
        "It will take your current age as the input and output a message with our time left in this format:\n",
        "\n",
        "You have x days, y weeks, and z months left.\n",
        "Where x, y and z are replaced with the actual calculated numbers.\n",
        "Example Input :\n",
        "56\n",
        "Example Output:\n",
        "You have 12410 days, 1768 weeks, and 408 months left."
      ],
      "metadata": {
        "id": "A-rLB1gMfcHa"
      }
    },
    {
      "cell_type": "code",
      "source": [
        "# Get the current age from the user\n",
        "current_age = int(input(\"Enter your current age: \"))\n",
        "\n",
        "# Constants\n",
        "average_life_expectancy = 90\n",
        "days_in_year = 365\n",
        "weeks_in_year = 52\n",
        "months_in_year = 12\n",
        "\n",
        "# Calculate remaining time until 90 years old\n",
        "remaining_years = average_life_expectancy - current_age\n",
        "remaining_days = remaining_years * days_in_year\n",
        "remaining_weeks = remaining_years * weeks_in_year\n",
        "remaining_months = remaining_years * months_in_year\n",
        "\n",
        "# Display the results\n",
        "print(f\"You have approximately:\")\n",
        "print(f\"You have {remaining_days} days, {remaining_weeks} weeks, and {remaining_months} months left.\")\n"
      ],
      "metadata": {
        "colab": {
          "base_uri": "https://localhost:8080/"
        },
        "id": "I0t7jsKBfmD_",
        "outputId": "7b178d17-2322-488c-943d-1409cfa288ff"
      },
      "execution_count": 14,
      "outputs": [
        {
          "output_type": "stream",
          "name": "stdout",
          "text": [
            "Enter your current age: 89\n",
            "You have approximately:\n",
            "You have 365 days, 52 weeks, and 12 months left.\n"
          ]
        }
      ]
    }
  ]
}