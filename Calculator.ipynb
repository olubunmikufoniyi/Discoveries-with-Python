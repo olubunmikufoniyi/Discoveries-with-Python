{
  "nbformat": 4,
  "nbformat_minor": 0,
  "metadata": {
    "colab": {
      "provenance": [],
      "authorship_tag": "ABX9TyOzewipUMn18FYdIkQhq94g",
      "include_colab_link": true
    },
    "kernelspec": {
      "name": "python3",
      "display_name": "Python 3"
    },
    "language_info": {
      "name": "python"
    }
  },
  "cells": [
    {
      "cell_type": "markdown",
      "metadata": {
        "id": "view-in-github",
        "colab_type": "text"
      },
      "source": [
        "<a href=\"https://colab.research.google.com/github/olubunmikufoniyi/Discoveries-with-Python/blob/main/Calculator.ipynb\" target=\"_parent\"><img src=\"https://colab.research.google.com/assets/colab-badge.svg\" alt=\"Open In Colab\"/></a>"
      ]
    },
    {
      "cell_type": "markdown",
      "source": [
        "Create a new file called \"calculator_2.0.py\"\n",
        "Create a class called \"Calculator\" that contains the following:\n",
        "A dictionary attribute to store the available mathematical operations and their corresponding functions\n",
        "A method called \"init\" that initializes the dictionary with the basic mathematical operations (+, -, *, /) and corresponding functions\n",
        "A method called \"add_operation\" that takes in two arguments: the operation symbol and the corresponding function. This method should add the new operation and function to the dictionary.\n",
        "A method called \"calculate\" that takes in three arguments: the first number, the operation symbol, and the second number. This method should use the dictionary to determine the appropriate function to perform the calculation. It should also include error handling to check if the operation symbol is valid and if the input values are numbers. If an error is encountered, the method should print an error message and raise an exception.\n",
        "Create separate functions for the advanced mathematical operations (exponentiation, square root, logarithm) and use the \"add_operation\" method to add them to the calculator's dictionary.\n",
        "In the main program, create an instance of the Calculator class, and use a while loop that allows the user to continue performing calculations until they choose to exit.\n",
        "Use the input() function to get input from the user for the numbers and operation symbol.Use the math library for advanced mathematical operations\n",
        "Use the isinstance() function to check if the input is a number."
      ],
      "metadata": {
        "id": "ZTFkH6HZYw5Q"
      }
    },
    {
      "cell_type": "code",
      "execution_count": null,
      "metadata": {
        "id": "G6HrECDRBUmV"
      },
      "outputs": [],
      "source": [
        "import math\n",
        "\n",
        "class Calculator:\n",
        "    def __init__(self):\n",
        "        self.operations = {\n",
        "            '+': self.add,\n",
        "            '-': self.subtract,\n",
        "            '*': self.multiply,\n",
        "            '/': self.divide\n",
        "        }\n",
        "\n",
        "    def add_operation(self, symbol, func):\n",
        "        self.operations[symbol] = func\n",
        "\n",
        "    def calculate(self, num1, operation, num2):\n",
        "        if operation not in self.operations:\n",
        "            print(\"Error: Invalid operation symbol.\")\n",
        "            raise ValueError(\"Invalid operation symbol\")\n",
        "        if not (isinstance(num1, (int, float)) and isinstance(num2, (int, float))):\n",
        "            print(\"Error: Input values must be numbers.\")\n",
        "            raise ValueError(\"Input values must be numbers.\")\n",
        "        return self.operations[operation](num1, num2)\n",
        "\n",
        "    def add(self, x, y):\n",
        "        return x + y\n",
        "\n",
        "    def subtract(self, x, y):\n",
        "        return x - y\n",
        "\n",
        "    def multiply(self, x, y):\n",
        "        return x * y\n",
        "\n",
        "    def divide(self, x, y):\n",
        "        if y == 0:\n",
        "            raise ValueError(\"Cannot divide by zero\")\n",
        "        return x / y\n",
        "\n",
        "    def exponentiation(self, x, y):\n",
        "        return x ** y\n",
        "\n",
        "    def square_root(self, x):\n",
        "        if x < 0:\n",
        "            raise ValueError(\"Cannot calculate square root of a negative number\")\n",
        "        return math.sqrt(x)\n",
        "\n",
        "    def logarithm(self, x, base):\n",
        "        if x <= 0 or base <= 0:\n",
        "            raise ValueError(\"Input values must be positive for logarithm\")\n",
        "        return math.log(x, base)\n",
        "\n",
        "# Main program\n",
        "calculator = Calculator()\n",
        "calculator.add_operation('^', calculator.exponentiation)\n",
        "calculator.add_operation('sqrt', calculator.square_root)\n",
        "calculator.add_operation('log', calculator.logarithm)\n",
        "\n",
        "while True:\n",
        "    try:\n",
        "        num1 = float(input(\"Enter the first number: \"))\n",
        "        operation = input(\"Enter the operation (+, -, *, /, ^, sqrt, log): \")\n",
        "        num2 = float(input(\"Enter the second number: \"))\n",
        "\n",
        "        result = calculator.calculate(num1, operation, num2)\n",
        "        print(\"Result:\", result)\n",
        "    except ValueError as ve:\n",
        "        print(ve)\n",
        "    except Exception as e:\n",
        "        print(\"An error occurred:\", e)\n",
        "\n",
        "    choice = input(\"Do you want to continue? (yes/no): \")\n",
        "    if choice.lower() != 'yes':\n",
        "        break"
      ]
    }
  ]
}