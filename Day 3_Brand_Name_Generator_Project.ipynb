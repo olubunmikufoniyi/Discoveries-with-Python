{
  "nbformat": 4,
  "nbformat_minor": 0,
  "metadata": {
    "colab": {
      "provenance": [],
      "authorship_tag": "ABX9TyP/FYtu17vdD5BVsKOT6MIn",
      "include_colab_link": true
    },
    "kernelspec": {
      "name": "python3",
      "display_name": "Python 3"
    },
    "language_info": {
      "name": "python"
    }
  },
  "cells": [
    {
      "cell_type": "markdown",
      "metadata": {
        "id": "view-in-github",
        "colab_type": "text"
      },
      "source": [
        "<a href=\"https://colab.research.google.com/github/olubunmikufoniyi/Discoveries-with-Python/blob/main/Day%202_Brand_Name_Generator_Project.ipynb\" target=\"_parent\"><img src=\"https://colab.research.google.com/assets/colab-badge.svg\" alt=\"Open In Colab\"/></a>"
      ]
    },
    {
      "cell_type": "code",
      "execution_count": 1,
      "metadata": {
        "colab": {
          "base_uri": "https://localhost:8080/"
        },
        "id": "wLUdTHRzu6nw",
        "outputId": "141b8b16-a175-4673-d44e-744547476dab"
      },
      "outputs": [
        {
          "output_type": "stream",
          "name": "stdout",
          "text": [
            "Welcome to the Band Name Generator!\n",
            "What city did you grow up in? Lagos\n",
            "What is the name of your pet? Cuddle\n",
            "Your band name could be: Lagos Cuddle\n"
          ]
        }
      ],
      "source": [
        "# Greeting\n",
        "print(\"Welcome to the Band Name Generator!\")\n",
        "\n",
        "# Ask for the city and pet names\n",
        "city_name = input(\"What city did you grow up in? \")\n",
        "pet_name = input(\"What is the name of your pet? \")\n",
        "\n",
        "# Combine the city and pet names to create the band name\n",
        "band_name = city_name + \" \" + pet_name\n",
        "\n",
        "# Display the band name\n",
        "print(f\"Your band name could be: {band_name}\")\n"
      ]
    },
    {
      "cell_type": "code",
      "source": [
        "# Greeting\n",
        "print(\"Welcome to the Band Name Generator!\")\n",
        "\n",
        "# Get user input for city and pet names\n",
        "city_name = input(\"Enter the city where you grew up: \")\n",
        "pet_name = input(\"Enter the name of your pet: \")\n",
        "\n",
        "# Combine the city and pet names to create the band name\n",
        "band_name = f\"{city_name} {pet_name}\"\n",
        "\n",
        "# Display the band name\n",
        "print(\"Your band name could be:\", band_name)\n"
      ],
      "metadata": {
        "colab": {
          "base_uri": "https://localhost:8080/"
        },
        "id": "SzjltDxjvXb0",
        "outputId": "7a523c18-1b34-4caa-cc3b-26def85c5562"
      },
      "execution_count": 2,
      "outputs": [
        {
          "output_type": "stream",
          "name": "stdout",
          "text": [
            "Welcome to the Band Name Generator!\n",
            "Enter the city where you grew up: London\n",
            "Enter the name of your pet: Eagle\n",
            "Your band name could be: London Eagle\n"
          ]
        }
      ]
    },
    {
      "cell_type": "code",
      "source": [
        "def generate_band_name():\n",
        "    print(\"Welcome to the Band Name Generator!\")\n",
        "\n",
        "    city_name = input(\"Enter the city where you grew up: \")\n",
        "    pet_name = input(\"Enter the name of your pet: \")\n",
        "\n",
        "    band_name = city_name + \" \" + pet_name\n",
        "\n",
        "    print(\"Your band name could be:\", band_name)\n",
        "\n",
        "# Call the function to generate the band name\n",
        "generate_band_name()\n"
      ],
      "metadata": {
        "colab": {
          "base_uri": "https://localhost:8080/"
        },
        "id": "d3nQITdyvuZ6",
        "outputId": "aaaa6603-f24e-4886-e691-cbe612e27ace"
      },
      "execution_count": 3,
      "outputs": [
        {
          "output_type": "stream",
          "name": "stdout",
          "text": [
            "Welcome to the Band Name Generator!\n",
            "Enter the city where you grew up: Dubai\n",
            "Enter the name of your pet: Emerald\n",
            "Your band name could be: Dubai Emerald\n"
          ]
        }
      ]
    },
    {
      "cell_type": "code",
      "source": [
        "def generate_band_name(city, pet):\n",
        "    return f\"Your band name could be: {city} {pet}\"\n",
        "\n",
        "def main():\n",
        "    print(\"Welcome to the Band Name Generator!\")\n",
        "\n",
        "    city_name = input(\"Enter the city where you grew up: \")\n",
        "    pet_name = input(\"Enter the name of your pet: \")\n",
        "\n",
        "    band_name = generate_band_name(city_name, pet_name)\n",
        "\n",
        "    print(band_name)\n",
        "\n",
        "# Call the main function\n",
        "if __name__ == \"__main__\":\n",
        "    main()\n"
      ],
      "metadata": {
        "colab": {
          "base_uri": "https://localhost:8080/"
        },
        "id": "uAKh6UHrwEZR",
        "outputId": "640a792c-7eae-45d7-c5d7-f04d03273755"
      },
      "execution_count": 4,
      "outputs": [
        {
          "output_type": "stream",
          "name": "stdout",
          "text": [
            "Welcome to the Band Name Generator!\n",
            "Enter the city where you grew up: Atlanta\n",
            "Enter the name of your pet: Aeries\n",
            "Your band name could be: Atlanta Aeries\n"
          ]
        }
      ]
    }
  ]
}
